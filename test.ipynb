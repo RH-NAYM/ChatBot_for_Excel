{
 "cells": [
  {
   "cell_type": "markdown",
   "metadata": {},
   "source": [
    "# Import Libraries"
   ]
  },
  {
   "cell_type": "code",
   "execution_count": 4,
   "metadata": {},
   "outputs": [],
   "source": [
    "import pandas as pd\n",
    "from datetime import datetime\n",
    "from datetime import date, timedelta\n",
    "data = pd.read_csv(\"data.csv\")\n",
    "data[\"month_name\"] = (pd.to_datetime(data['date']).dt.month).apply(lambda x:datetime(2023, x, 1).strftime('%B'))\n"
   ]
  },
  {
   "cell_type": "markdown",
   "metadata": {},
   "source": [
    "# Total Yearly Calculation Functions"
   ]
  },
  {
   "cell_type": "code",
   "execution_count": 2,
   "metadata": {},
   "outputs": [],
   "source": [
    "# Total Yearly\n",
    "def yrMonth():\n",
    "    total_month_number = max(pd.to_datetime(data['date']).dt.month)\n",
    "    return total_month_number\n",
    "\n",
    "def yrTotalWork():\n",
    "    total_work = len(data.id)\n",
    "    return total_work\n",
    "\n",
    "def yrTotalDate():\n",
    "    total_date = len(data.date)\n",
    "    return total_date\n",
    "\n",
    "def yrTotalEmployee():\n",
    "    total_employee = sum(data.employee)\n",
    "    return total_employee\n",
    "\n",
    "def yrTotalMat():\n",
    "    total_material = sum(data.material)\n",
    "    return total_material\n",
    "\n",
    "def yrtotalShop():\n",
    "    yearly_shop = sum(data.shop)\n",
    "    return yearly_shop\n",
    "\n",
    "\n",
    "# Yearly Average \n",
    "def yrAvgEmployee():\n",
    "    employee = round(((sum(data.employee))/(len(data.employee))),2)\n",
    "    return employee\n",
    "\n",
    "def yrAvgMat():\n",
    "    mat = round(((sum(data.employee))/(len(data.employee))),2)\n",
    "    return mat\n",
    "\n",
    "def yrSR():\n",
    "    yearly_average_strike_rate = f\"{round(((sum(data.strike_rate))/(len(data.strike_rate))*100),2)} % \"\n",
    "    return yearly_average_strike_rate\n",
    "\n",
    "def yrAvgShop():\n",
    "    yearly_average_shop = round(((sum(data.shop))/(len(data.shop))),2)\n",
    "    return yearly_average_shop"
   ]
  },
  {
   "cell_type": "markdown",
   "metadata": {},
   "source": [
    "# Total Monthly Calculation Functions"
   ]
  },
  {
   "cell_type": "code",
   "execution_count": 3,
   "metadata": {},
   "outputs": [],
   "source": [
    "# Monthly Total Calculaiton\n",
    "def mnTotalWorkDay(month):\n",
    "    monthly_total_work = len(data[data.month_name == month])\n",
    "    day = f\"{monthly_total_work} days\"\n",
    "    return day\n",
    "\n",
    "def mntotalEmployeeWork(month):\n",
    "    monthly_total_employee_works = (data[data.month_name == month])\n",
    "    total_employee = sum(monthly_total_employee_works.employee)\n",
    "    return total_employee\n",
    "\n",
    "def mnTotalMat(month):\n",
    "    monthly_total_material = (data[data.month_name == month])\n",
    "    total_material = sum(monthly_total_material.material)\n",
    "    return total_material\n",
    "\n",
    "def mnSR(month):\n",
    "    monthly_strike_rate = (data[data.month_name == month])\n",
    "    avgStrike_Rate = f\"{round(((sum(monthly_strike_rate.strike_rate))/(len(monthly_strike_rate.strike_rate))*100),2)} % \"\n",
    "    return avgStrike_Rate\n",
    "\n",
    "def mnTotalShop(month):\n",
    "    monthly_total_shop = (data[data.month_name == month])\n",
    "    monthlyTotalShop = sum(monthly_total_shop.shop)\n",
    "    return monthlyTotalShop\n",
    "\n",
    "\n",
    "# Monthly Average \n",
    "def mnAvgEmployee(month):\n",
    "    new_data = (data[data.month_name == month])\n",
    "    employee = round(((sum(new_data.employee))/(len(new_data.employee))),2)\n",
    "    return employee\n",
    "\n",
    "def mnAvgMat(month):\n",
    "    new_data = (data[data.month_name == month])\n",
    "    mat = round(((sum(new_data.material))/(len(new_data.material))),2)\n",
    "    return mat\n",
    "\n",
    "def mnAvgSR(month):\n",
    "    new_data = (data[data.month_name == month])\n",
    "    sr = f\"{round((((sum(new_data.strike_rate))/(len(new_data.strike_rate)))*100),2)} % \"\n",
    "    return sr\n",
    "\n",
    "def mnAvgShop(month):\n",
    "    new_data = (data[data.month_name == month])\n",
    "    shop = round(((sum(new_data.shop))/(len(new_data.shop))),2)\n",
    "    return shop"
   ]
  },
  {
   "cell_type": "markdown",
   "metadata": {},
   "source": [
    "# Daily Calculation Functions"
   ]
  },
  {
   "cell_type": "code",
   "execution_count": 4,
   "metadata": {},
   "outputs": [],
   "source": [
    "def dayEmployee(date):\n",
    "    dayData = data.loc[(data['date'] == date)]\n",
    "    employee = dayData.employee.values[0]\n",
    "    return employee\n",
    "\n",
    "def dayMat(date):\n",
    "    dayData = data.loc[(data['date'] == date)]\n",
    "    mat = dayData.material.values[0]\n",
    "    return mat\n",
    "\n",
    "def daySR(date):\n",
    "    dayData = data.loc[(data['date'] == date)]\n",
    "    rate = ((dayData.strike_rate)*100).values[0]\n",
    "    return rate\n",
    "\n",
    "def dayShop(date):\n",
    "    dayData = data.loc[(data['date'] == date)]\n",
    "    shop = dayData.shop.values[0]\n",
    "    return shop"
   ]
  },
  {
   "cell_type": "markdown",
   "metadata": {},
   "source": [
    "# Today Calculation Function"
   ]
  },
  {
   "cell_type": "code",
   "execution_count": 5,
   "metadata": {},
   "outputs": [],
   "source": [
    "def todayEmployee():\n",
    "    day = ((datetime.now()).strftime('%#m/%#d/%Y'))\n",
    "    dayData = data.loc[(data['date'] == day)]\n",
    "    employee = (dayData.employee).values[0]\n",
    "    return employee\n",
    "\n",
    "def todayMat():\n",
    "    day = ((datetime.now()).strftime('%#m/%#d/%Y'))\n",
    "    dayData = data.loc[(data['date'] == day)]\n",
    "    mat = dayData.material.values[0]\n",
    "    return mat\n",
    "\n",
    "def todaySR():\n",
    "    day = ((datetime.now()).strftime('%#m/%#d/%Y'))\n",
    "    dayData = data.loc[(data['date'] == day)]\n",
    "    sr = ((dayData.strike_rate)*100).values[0]\n",
    "    return sr\n",
    "\n",
    "def todayShop():\n",
    "    day = ((datetime.now()).strftime('%#m/%#d/%Y'))\n",
    "    dayData = data.loc[(data['date'] == day)]\n",
    "    s = dayData.shop.values[0]\n",
    "    return s"
   ]
  },
  {
   "cell_type": "markdown",
   "metadata": {},
   "source": [
    "# YesterDay Calculation Function"
   ]
  },
  {
   "cell_type": "code",
   "execution_count": 6,
   "metadata": {},
   "outputs": [],
   "source": [
    "def ydEmployee():\n",
    "    day = date.today() - timedelta(days=1)\n",
    "    yesterday = day.strftime('%#m/%#d/%Y')\n",
    "    yesterday_data = data.loc[(data['date'] == yesterday)]\n",
    "    employee = yesterday_data.employee.values[0]\n",
    "    return employee\n",
    "\n",
    "def ydMat():\n",
    "    day = date.today() - timedelta(days=1)\n",
    "    yesterday = day.strftime('%#m/%#d/%Y')\n",
    "    yesterday_data = data.loc[(data['date'] == yesterday)]\n",
    "    mat = yesterday_data.material.values[0]\n",
    "    return mat\n",
    "\n",
    "def ydSR():\n",
    "    day = date.today() - timedelta(days=1)\n",
    "    yesterday = day.strftime('%#m/%#d/%Y')\n",
    "    yesterday_data = data.loc[(data['date'] == yesterday)]\n",
    "    sr = yesterday_data.strike_rate.values[0]\n",
    "    return sr\n",
    "\n",
    "def ydShop():\n",
    "    day = date.today() - timedelta(days=1)\n",
    "    yesterday = day.strftime('%#m/%#d/%Y')\n",
    "    yesterday_data = data.loc[(data['date'] == yesterday)]\n",
    "    s = yesterday_data.shop.values[0]\n",
    "    return s"
   ]
  },
  {
   "cell_type": "markdown",
   "metadata": {},
   "source": [
    "# Monthly Query Calculation Function"
   ]
  },
  {
   "cell_type": "code",
   "execution_count": 7,
   "metadata": {},
   "outputs": [],
   "source": [
    "def mnQrTotalEmployee(m1,m2):\n",
    "    id1 = (data[(data['month_name']==m1)]).id.values[0]\n",
    "    id2 = (data[(data['month_name']==m2)])['id'].iloc[-1]\n",
    "    filtered_df = data.loc[(data['id'] >= id1) & (data['id'] <= id2)]\n",
    "    total_employee = sum(filtered_df[\"employee\"])\n",
    "    return total_employee\n",
    "\n",
    "def mnQrTotalMat(m1,m2):\n",
    "    id1 = (data[(data['month_name']==m1)]).id.values[0]\n",
    "    id2 = (data[(data['month_name']==m2)])['id'].iloc[-1]\n",
    "    filtered_df = data.loc[(data['id'] >= id1) & (data['id'] <= id2)]\n",
    "    total_mat = sum(filtered_df[\"material\"])\n",
    "    return total_mat\n",
    "\n",
    "def mnQrTotalSR(m1,m2):\n",
    "    id1 = (data[(data['month_name']==m1)]).id.values[0]\n",
    "    id2 = (data[(data['month_name']==m2)])['id'].iloc[-1]\n",
    "    filtered_df = data.loc[(data['id'] >= id1) & (data['id'] <= id2)]\n",
    "    total_sr = round(((sum(filtered_df[\"strike_rate\"]))/(len(filtered_df[\"strike_rate\"]))*100),2)\n",
    "    return total_sr\n",
    "\n",
    "def mnQrTotalShop(m1,m2):\n",
    "    id1 = (data[(data['month_name']==m1)]).id.values[0]\n",
    "    id2 = (data[(data['month_name']==m2)])['id'].iloc[-1]\n",
    "    filtered_df = data.loc[(data['id'] >= id1) & (data['id'] <= id2)]\n",
    "    total_shop = sum(filtered_df[\"shop\"])\n",
    "    return total_shop\n",
    "\n"
   ]
  },
  {
   "cell_type": "markdown",
   "metadata": {},
   "source": [
    "# Date query Calculation Function"
   ]
  },
  {
   "cell_type": "code",
   "execution_count": 23,
   "metadata": {},
   "outputs": [],
   "source": [
    "def dateQrTotalEmployee(d1,d2):\n",
    "    id1 = (data[(data['date']==d1)]).id.values[0]\n",
    "    id2 = (data[(data['date']==d2)])['id'].iloc[-1]\n",
    "    filtered_df = data.loc[(data['id'] >= id1) & (data['id'] <= id2)]\n",
    "    total_employee = sum(filtered_df[\"employee\"])\n",
    "    return total_employee\n",
    "\n",
    "def dateTotalMat(d1,d2):\n",
    "    id1 = (data[(data['date']==d1)]).id.values[0]\n",
    "    id2 = (data[(data['date']==d2)])['id'].iloc[-1]\n",
    "    filtered_df = data.loc[(data['id'] >= id1) & (data['id'] <= id2)]\n",
    "    total_mat = sum(filtered_df[\"material\"])\n",
    "    return total_mat\n",
    "\n",
    "def dateAvgSR(d1,d2):\n",
    "    id1 = (data[(data['date']==d1)]).id.values[0]\n",
    "    id2 = (data[(data['date']==d2)])['id'].iloc[-1]\n",
    "    filtered_df = data.loc[(data['id'] >= id1) & (data['id'] <= id2)]\n",
    "    total_sr = round((((sum(filtered_df[\"strike_rate\"]))/(len(filtered_df[\"strike_rate\"])))*100),2)\n",
    "    return total_sr\n",
    "\n",
    "def dateTotalShop(d1,d2):\n",
    "    id1 = (data[(data['date']==d1)]).id.values[0]\n",
    "    id2 = (data[(data['date']==d2)])['id'].iloc[-1]\n",
    "    filtered_df = data.loc[(data['id'] >= id1) & (data['id'] <= id2)]\n",
    "    total_shop = sum(filtered_df[\"shop\"])\n",
    "    return total_shop"
   ]
  },
  {
   "cell_type": "code",
   "execution_count": null,
   "metadata": {},
   "outputs": [],
   "source": []
  },
  {
   "cell_type": "markdown",
   "metadata": {},
   "source": [
    "# Import Libraries"
   ]
  },
  {
   "cell_type": "code",
   "execution_count": null,
   "metadata": {},
   "outputs": [],
   "source": [
    "import pandas as pd\n",
    "from datetime import datetime\n",
    "from datetime import date, timedelta\n",
    "data = pd.read_csv(\"data.csv\")\n",
    "data[\"month_name\"] = (pd.to_datetime(data['date']).dt.month).apply(lambda x:datetime(2023, x, 1).strftime('%B'))\n"
   ]
  },
  {
   "cell_type": "markdown",
   "metadata": {},
   "source": [
    "# Total Calculation Function"
   ]
  },
  {
   "cell_type": "code",
   "execution_count": null,
   "metadata": {},
   "outputs": [],
   "source": [
    "def total_day():\n",
    "    totalDay = len(data[\"id\"])\n",
    "    return total_day"
   ]
  },
  {
   "cell_type": "code",
   "execution_count": null,
   "metadata": {},
   "outputs": [],
   "source": []
  },
  {
   "cell_type": "code",
   "execution_count": null,
   "metadata": {},
   "outputs": [],
   "source": []
  },
  {
   "cell_type": "code",
   "execution_count": null,
   "metadata": {},
   "outputs": [],
   "source": []
  },
  {
   "cell_type": "code",
   "execution_count": null,
   "metadata": {},
   "outputs": [],
   "source": []
  },
  {
   "cell_type": "code",
   "execution_count": null,
   "metadata": {},
   "outputs": [],
   "source": []
  }
 ],
 "metadata": {
  "kernelspec": {
   "display_name": "pd",
   "language": "python",
   "name": "python3"
  },
  "language_info": {
   "codemirror_mode": {
    "name": "ipython",
    "version": 3
   },
   "file_extension": ".py",
   "mimetype": "text/x-python",
   "name": "python",
   "nbconvert_exporter": "python",
   "pygments_lexer": "ipython3",
   "version": "3.11.5"
  },
  "orig_nbformat": 4
 },
 "nbformat": 4,
 "nbformat_minor": 2
}
